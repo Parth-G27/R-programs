{
  "nbformat": 4,
  "nbformat_minor": 0,
  "metadata": {
    "colab": {
      "provenance": [],
      "authorship_tag": "ABX9TyMXJBgcbk7XxWtoBPBG1/dn",
      "include_colab_link": true
    },
    "kernelspec": {
      "name": "ir",
      "display_name": "R"
    },
    "language_info": {
      "name": "R"
    }
  },
  "cells": [
    {
      "cell_type": "markdown",
      "metadata": {
        "id": "view-in-github",
        "colab_type": "text"
      },
      "source": [
        "<a href=\"https://colab.research.google.com/github/Parth-G27/R-programs/blob/main/program_2.ipynb\" target=\"_parent\"><img src=\"https://colab.research.google.com/assets/colab-badge.svg\" alt=\"Open In Colab\"/></a>"
      ]
    },
    {
      "cell_type": "code",
      "execution_count": 9,
      "metadata": {
        "id": "wnDTTc7PZn4E"
      },
      "outputs": [],
      "source": [
        "num_stud <- 5\n",
        "num_sub <- 5\n",
        "\n",
        "student_names <- c(\"Vaibhav\",\"Utpal\",\"Shankar\",\"jatin\",\"Dharam\")\n",
        "\n",
        "marks <- matrix(c(\n",
        "    22,34,54,65,54,\n",
        "    88,78,66,79,80,\n",
        "    56,65,45,68,98,\n",
        "    59,89,75,74,98,\n",
        "    46,54,43,39,39\n",
        "),nrow = num_stud, byrow = TRUE\n",
        "\n",
        ")"
      ]
    },
    {
      "cell_type": "code",
      "source": [
        "stud_records <- list()\n",
        "\n",
        "for(i in 1:num_stud){\n",
        "    total_marks = sum(marks[i,])\n",
        "    avg_marks = total_marks/5\n",
        "    grade_got <- ifelse(avg_marks>=90,\"A\",\n",
        "                    ifelse(avg_marks>=80,\"B\",\n",
        "                           ifelse(avg_marks>=70,\"C\",\n",
        "                                  ifelse(avg_marks>=60,\"D\",\n",
        "                                         ifelse(avg_marks>=50,\"E\",\n",
        "                                                ifelse(avg_marks>=40,\"F\",\"X\"))))))\n",
        "\n",
        "    stud_record <- list(name = student_names[i],total = total_marks,grade=grade_got,avg=avg_marks)\n",
        "    stud_records <- append(stud_records,list(stud_record))\n",
        "}"
      ],
      "metadata": {
        "id": "s4kOkQpRb3hl"
      },
      "execution_count": 10,
      "outputs": []
    },
    {
      "cell_type": "code",
      "source": [
        "for(record in stud_records){\n",
        "  cat(record$name,\"\\t\")\n",
        "  cat(record$total,\"\\t\")\n",
        "  cat(record$grade,\"\\t\")\n",
        "  cat(record$avg,\"\\n\")\n",
        "Pgi\n",
        "}"
      ],
      "metadata": {
        "colab": {
          "base_uri": "https://localhost:8080/"
        },
        "id": "fFg-1hITdRNI",
        "outputId": "e9e0d253-72c7-43d4-ee9b-f4a9faff51d7"
      },
      "execution_count": 11,
      "outputs": [
        {
          "output_type": "stream",
          "name": "stdout",
          "text": [
            "Vaibhav \t229 \tF \t45.8 \n",
            "Utpal \t391 \tC \t78.2 \n",
            "Shankar \t332 \tD \t66.4 \n",
            "jatin \t395 \tC \t79 \n",
            "Dharam \t221 \tF \t44.2 \n"
          ]
        }
      ]
    },
    {
      "cell_type": "code",
      "source": [],
      "metadata": {
        "id": "V3jxxeJzdgbu"
      },
      "execution_count": 12,
      "outputs": []
    }
  ]
}