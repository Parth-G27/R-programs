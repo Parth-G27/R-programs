{
  "nbformat": 4,
  "nbformat_minor": 0,
  "metadata": {
    "colab": {
      "provenance": [],
      "authorship_tag": "ABX9TyOj8k06GsgtVxt6W1+s1P/i",
      "include_colab_link": true
    },
    "kernelspec": {
      "name": "ir",
      "display_name": "R"
    },
    "language_info": {
      "name": "R"
    }
  },
  "cells": [
    {
      "cell_type": "markdown",
      "metadata": {
        "id": "view-in-github",
        "colab_type": "text"
      },
      "source": [
        "<a href=\"https://colab.research.google.com/github/Parth-G27/R-programs/blob/main/program_10.ipynb\" target=\"_parent\"><img src=\"https://colab.research.google.com/assets/colab-badge.svg\" alt=\"Open In Colab\"/></a>"
      ]
    },
    {
      "cell_type": "code",
      "source": [
        "install.packages(\"dplyr\")"
      ],
      "metadata": {
        "colab": {
          "base_uri": "https://localhost:8080/"
        },
        "id": "3IWwFFIQfGuY",
        "outputId": "785d0ab2-4949-4c79-e955-5844765ff73b"
      },
      "execution_count": 3,
      "outputs": [
        {
          "output_type": "stream",
          "name": "stderr",
          "text": [
            "Installing package into ‘/usr/local/lib/R/site-library’\n",
            "(as ‘lib’ is unspecified)\n",
            "\n"
          ]
        }
      ]
    },
    {
      "cell_type": "code",
      "execution_count": 2,
      "metadata": {
        "colab": {
          "base_uri": "https://localhost:8080/"
        },
        "id": "dEA2r1ysfDt7",
        "outputId": "0a6f9cb1-8e08-4003-fad6-431baa32d0a1"
      },
      "outputs": [
        {
          "output_type": "stream",
          "name": "stderr",
          "text": [
            "\n",
            "Attaching package: ‘dplyr’\n",
            "\n",
            "\n",
            "The following objects are masked from ‘package:stats’:\n",
            "\n",
            "    filter, lag\n",
            "\n",
            "\n",
            "The following objects are masked from ‘package:base’:\n",
            "\n",
            "    intersect, setdiff, setequal, union\n",
            "\n",
            "\n"
          ]
        },
        {
          "output_type": "stream",
          "name": "stdout",
          "text": [
            "[1] \"Filtered Data:\"\n",
            "  EMPID      Name Age Salary     Department\n",
            "1   102     peter  30  60000             IT\n",
            "2   103       bob  35  45000        Finance\n",
            "3   104     Linda  40  70000     Production\n",
            "4   105 Elizabeth  45  55000 QualityControl\n",
            "[1] \"Selected Columns:\"\n",
            "  EMPID      Name Salary\n",
            "1   101      John  50000\n",
            "2   102     peter  60000\n",
            "3   103       bob  45000\n",
            "4   104     Linda  70000\n",
            "5   105 Elizabeth  55000\n",
            "[1] \"Mutated Data:\"\n",
            "  EMPID      Name Age Salary     Department Salary_Adjusted\n",
            "1   101      John  25  50000             HR           55000\n",
            "2   102     peter  30  60000             IT           66000\n",
            "3   103       bob  35  45000        Finance           49500\n",
            "4   104     Linda  40  70000     Production           77000\n",
            "5   105 Elizabeth  45  55000 QualityControl           60500\n",
            "[1] \"Summarized Data:\"\n",
            "\u001b[90m# A tibble: 5 × 3\u001b[39m\n",
            "  Department     Avg_salary Max_Age\n",
            "  \u001b[3m\u001b[90m<chr>\u001b[39m\u001b[23m               \u001b[3m\u001b[90m<dbl>\u001b[39m\u001b[23m   \u001b[3m\u001b[90m<dbl>\u001b[39m\u001b[23m\n",
            "\u001b[90m1\u001b[39m Finance             \u001b[4m4\u001b[24m\u001b[4m5\u001b[24m000      35\n",
            "\u001b[90m2\u001b[39m HR                  \u001b[4m5\u001b[24m\u001b[4m0\u001b[24m000      25\n",
            "\u001b[90m3\u001b[39m IT                  \u001b[4m6\u001b[24m\u001b[4m0\u001b[24m000      30\n",
            "\u001b[90m4\u001b[39m Production          \u001b[4m7\u001b[24m\u001b[4m0\u001b[24m000      40\n",
            "\u001b[90m5\u001b[39m QualityControl      \u001b[4m5\u001b[24m\u001b[4m5\u001b[24m000      45\n",
            "[1] \"Arranged Data:\"\n",
            "  EMPID      Name Age Salary     Department\n",
            "1   101      John  25  50000             HR\n",
            "2   102     peter  30  60000             IT\n",
            "3   103       bob  35  45000        Finance\n",
            "4   104     Linda  40  70000     Production\n",
            "5   105 Elizabeth  45  55000 QualityControl\n",
            "[1] \"Joined Data:\"\n",
            "  EMPID      Name Age Salary     Department Bonus\n",
            "1   101      John  25  50000             HR    NA\n",
            "2   102     peter  30  60000             IT    NA\n",
            "3   103       bob  35  45000        Finance  2000\n",
            "4   104     Linda  40  70000     Production  3000\n",
            "5   105 Elizabeth  45  55000 QualityControl  5000\n"
          ]
        }
      ],
      "source": [
        "library(dplyr)\n",
        "df <- data.frame(\n",
        "EMPID= c(101,102,103,104,105),\n",
        "Name=c(\"John\",\"peter\",\"bob\",\"Linda\",\"Elizabeth\"),\n",
        "Age=c(25,30,35,40,45),\n",
        "Salary=c(50000,60000,45000,70000,55000),\n",
        "Department=c(\"HR\",\"IT\",\"Finance\",\"Production\",\"QualityControl\"))\n",
        "\n",
        "filtered_data <- filter(df,Age>25)\n",
        "\n",
        "selected_columns <- select(df, EMPID, Name, Salary)\n",
        "\n",
        "mutated_data <-mutate(df,Salary_Adjusted=Salary*1.1)\n",
        "\n",
        "grouped_data <- group_by(df,Department)\n",
        "\n",
        "summarized_data <-summarize(grouped_data,\n",
        "Avg_salary=mean(Salary),Max_Age=max(Age))\n",
        "\n",
        "arranged_data <- arrange(df,Age,desc(Salary))\n",
        "\n",
        "df2 <- data.frame(\n",
        "EMPID =c(103,104,105),\n",
        "Bonus=c(2000,3000,5000)\n",
        ")\n",
        "\n",
        "joined_data <- left_join(df,df2,by=\"EMPID\")\n",
        "\n",
        "print(\"Filtered Data:\")\n",
        "print(filtered_data)\n",
        "\n",
        "print(\"Selected Columns:\")\n",
        "print(selected_columns)\n",
        "\n",
        "print(\"Mutated Data:\")\n",
        "print(mutated_data)\n",
        "\n",
        "print(\"Summarized Data:\")\n",
        "print(summarized_data)\n",
        "print(\"Arranged Data:\")\n",
        "print(arranged_data)\n",
        "print(\"Joined Data:\")\n",
        "print(joined_data)"
      ]
    },
    {
      "cell_type": "code",
      "source": [
        "print(df)"
      ],
      "metadata": {
        "colab": {
          "base_uri": "https://localhost:8080/"
        },
        "id": "iw38dkt7fa8j",
        "outputId": "dfe36a9d-fed3-4c54-ad06-a5687f9aaf69"
      },
      "execution_count": 4,
      "outputs": [
        {
          "output_type": "stream",
          "name": "stdout",
          "text": [
            "  EMPID      Name Age Salary     Department\n",
            "1   101      John  25  50000             HR\n",
            "2   102     peter  30  60000             IT\n",
            "3   103       bob  35  45000        Finance\n",
            "4   104     Linda  40  70000     Production\n",
            "5   105 Elizabeth  45  55000 QualityControl\n"
          ]
        }
      ]
    },
    {
      "cell_type": "code",
      "source": [],
      "metadata": {
        "id": "Mr2fFATOiphm"
      },
      "execution_count": null,
      "outputs": []
    }
  ]
}