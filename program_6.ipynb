{
  "nbformat": 4,
  "nbformat_minor": 0,
  "metadata": {
    "colab": {
      "provenance": [],
      "authorship_tag": "ABX9TyM3iappxFH2mtoen5+60YuV",
      "include_colab_link": true
    },
    "kernelspec": {
      "name": "ir",
      "display_name": "R"
    },
    "language_info": {
      "name": "R"
    }
  },
  "cells": [
    {
      "cell_type": "markdown",
      "metadata": {
        "id": "view-in-github",
        "colab_type": "text"
      },
      "source": [
        "<a href=\"https://colab.research.google.com/github/Parth-G27/R-programs/blob/main/program_6.ipynb\" target=\"_parent\"><img src=\"https://colab.research.google.com/assets/colab-badge.svg\" alt=\"Open In Colab\"/></a>"
      ]
    },
    {
      "cell_type": "code",
      "execution_count": 19,
      "metadata": {
        "colab": {
          "base_uri": "https://localhost:8080/"
        },
        "id": "pqx2APY_sktU",
        "outputId": "a8f41ef0-561b-4618-9060-dab3252d9c9a"
      },
      "outputs": [
        {
          "output_type": "stream",
          "name": "stderr",
          "text": [
            "Installing package into ‘/usr/local/lib/R/site-library’\n",
            "(as ‘lib’ is unspecified)\n",
            "\n"
          ]
        }
      ],
      "source": [
        "# Load required libraries\n",
        "install.packages(\"forecast\")\n",
        "\n",
        "library(forecast)"
      ]
    },
    {
      "cell_type": "code",
      "source": [
        "# Create a data frame with Month and Sales columns\n",
        "sales_data <- data.frame(\n",
        "Month = seq(as.Date(\"2023-01-01\"), as.Date(\"2023-06-01\"), by\n",
        "= \"months\"),\n",
        "Sales = c(12000, 15000, 18000, 16000, 20000, 22000)\n",
        ")\n",
        "sales_data"
      ],
      "metadata": {
        "colab": {
          "base_uri": "https://localhost:8080/",
          "height": 286
        },
        "id": "nkugqgogxn8d",
        "outputId": "ecfa9fb6-b4ec-4d0f-fbd0-1d9f18189716"
      },
      "execution_count": 20,
      "outputs": [
        {
          "output_type": "display_data",
          "data": {
            "text/html": [
              "<table class=\"dataframe\">\n",
              "<caption>A data.frame: 6 × 2</caption>\n",
              "<thead>\n",
              "\t<tr><th scope=col>Month</th><th scope=col>Sales</th></tr>\n",
              "\t<tr><th scope=col>&lt;date&gt;</th><th scope=col>&lt;dbl&gt;</th></tr>\n",
              "</thead>\n",
              "<tbody>\n",
              "\t<tr><td>2023-01-01</td><td>12000</td></tr>\n",
              "\t<tr><td>2023-02-01</td><td>15000</td></tr>\n",
              "\t<tr><td>2023-03-01</td><td>18000</td></tr>\n",
              "\t<tr><td>2023-04-01</td><td>16000</td></tr>\n",
              "\t<tr><td>2023-05-01</td><td>20000</td></tr>\n",
              "\t<tr><td>2023-06-01</td><td>22000</td></tr>\n",
              "</tbody>\n",
              "</table>\n"
            ],
            "text/markdown": "\nA data.frame: 6 × 2\n\n| Month &lt;date&gt; | Sales &lt;dbl&gt; |\n|---|---|\n| 2023-01-01 | 12000 |\n| 2023-02-01 | 15000 |\n| 2023-03-01 | 18000 |\n| 2023-04-01 | 16000 |\n| 2023-05-01 | 20000 |\n| 2023-06-01 | 22000 |\n\n",
            "text/latex": "A data.frame: 6 × 2\n\\begin{tabular}{ll}\n Month & Sales\\\\\n <date> & <dbl>\\\\\n\\hline\n\t 2023-01-01 & 12000\\\\\n\t 2023-02-01 & 15000\\\\\n\t 2023-03-01 & 18000\\\\\n\t 2023-04-01 & 16000\\\\\n\t 2023-05-01 & 20000\\\\\n\t 2023-06-01 & 22000\\\\\n\\end{tabular}\n",
            "text/plain": [
              "  Month      Sales\n",
              "1 2023-01-01 12000\n",
              "2 2023-02-01 15000\n",
              "3 2023-03-01 18000\n",
              "4 2023-04-01 16000\n",
              "5 2023-05-01 20000\n",
              "6 2023-06-01 22000"
            ]
          },
          "metadata": {}
        }
      ]
    },
    {
      "cell_type": "code",
      "source": [
        "# Convert to time series\n",
        "sales_ts <- ts(sales_data$Sales, frequency = 12)\n",
        "sales_ts"
      ],
      "metadata": {
        "colab": {
          "base_uri": "https://localhost:8080/",
          "height": 98
        },
        "id": "7IO2yDxhxsRF",
        "outputId": "6cc413a9-290a-4d35-ec68-c2d680ad4ff7"
      },
      "execution_count": 21,
      "outputs": [
        {
          "output_type": "display_data",
          "data": {
            "text/html": [
              "<table class=\"dataframe\">\n",
              "<caption>A Time Series: 1 × 6</caption>\n",
              "<thead>\n",
              "\t<tr><th></th><th scope=col>Jan</th><th scope=col>Feb</th><th scope=col>Mar</th><th scope=col>Apr</th><th scope=col>May</th><th scope=col>Jun</th></tr>\n",
              "</thead>\n",
              "<tbody>\n",
              "\t<tr><th scope=row>1</th><td>12000</td><td>15000</td><td>18000</td><td>16000</td><td>20000</td><td>22000</td></tr>\n",
              "</tbody>\n",
              "</table>\n"
            ],
            "text/markdown": "\nA Time Series: 1 × 6\n\n| <!--/--> | Jan | Feb | Mar | Apr | May | Jun |\n|---|---|---|---|---|---|---|\n| 1 | 12000 | 15000 | 18000 | 16000 | 20000 | 22000 |\n\n",
            "text/latex": "A Time Series: 1 × 6\n\\begin{tabular}{r|llllll}\n  & Jan & Feb & Mar & Apr & May & Jun\\\\\n\\hline\n\t1 & 12000 & 15000 & 18000 & 16000 & 20000 & 22000\\\\\n\\end{tabular}\n",
            "text/plain": [
              "  Jan   Feb   Mar   Apr   May   Jun  \n",
              "1 12000 15000 18000 16000 20000 22000"
            ]
          },
          "metadata": {}
        }
      ]
    },
    {
      "cell_type": "code",
      "source": [
        "# Fit ARIMA model\n",
        "arima_model <- auto.arima(sales_ts)"
      ],
      "metadata": {
        "id": "vLLn6dETxtDO"
      },
      "execution_count": 22,
      "outputs": []
    },
    {
      "cell_type": "code",
      "source": [
        "# Forecast sales for next 3 months\n",
        "forecast_result <- forecast(arima_model, h = 3)"
      ],
      "metadata": {
        "id": "35t_suomxyej"
      },
      "execution_count": 23,
      "outputs": []
    },
    {
      "cell_type": "code",
      "source": [
        "# Display forecast results\n",
        "print(forecast_result)"
      ],
      "metadata": {
        "colab": {
          "base_uri": "https://localhost:8080/"
        },
        "id": "hP3Ti36ax4bc",
        "outputId": "8610db2e-3a34-4970-d85c-37849869b555"
      },
      "execution_count": 24,
      "outputs": [
        {
          "output_type": "stream",
          "name": "stdout",
          "text": [
            "      Point Forecast    Lo 80    Hi 80    Lo 95    Hi 95\n",
            "Jul 1          22000 18285.70 25714.30 16319.47 27680.53\n",
            "Aug 1          22000 16747.19 27252.81 13966.52 30033.48\n",
            "Sep 1          22000 15566.65 28433.35 12161.04 31838.96\n"
          ]
        }
      ]
    }
  ]
}