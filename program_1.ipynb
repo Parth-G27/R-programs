{
  "nbformat": 4,
  "nbformat_minor": 0,
  "metadata": {
    "colab": {
      "provenance": [],
      "authorship_tag": "ABX9TyNzYD18fVA4EIMVVytxxQq+",
      "include_colab_link": true
    },
    "kernelspec": {
      "name": "ir",
      "display_name": "R"
    },
    "language_info": {
      "name": "R"
    }
  },
  "cells": [
    {
      "cell_type": "markdown",
      "metadata": {
        "id": "view-in-github",
        "colab_type": "text"
      },
      "source": [
        "<a href=\"https://colab.research.google.com/github/Parth-G27/R-programs/blob/main/program_1.ipynb\" target=\"_parent\"><img src=\"https://colab.research.google.com/assets/colab-badge.svg\" alt=\"Open In Colab\"/></a>"
      ]
    },
    {
      "cell_type": "code",
      "source": [
        "order <- list(\n",
        "  list(name=\"rice\",qua=1),\n",
        "  list(name=\"wheat\",qua=2)\n",
        ")"
      ],
      "metadata": {
        "id": "OLXX1zBsMdaj"
      },
      "execution_count": 33,
      "outputs": []
    },
    {
      "cell_type": "code",
      "source": [
        "items <- list(\n",
        "  list(name= \"rice\",price= 20),\n",
        "  list(name= \"sugar\",price= 10),\n",
        "  list(name= \"wheat\",price= 20)\n",
        ")"
      ],
      "metadata": {
        "id": "m73SI75GL4tw"
      },
      "execution_count": 34,
      "outputs": []
    },
    {
      "cell_type": "code",
      "source": [
        "for(item in order){\n",
        "  order_items<-item$name\n",
        "}\n",
        "print(order_items)"
      ],
      "metadata": {
        "colab": {
          "base_uri": "https://localhost:8080/"
        },
        "id": "3_ZUJH-maAzM",
        "outputId": "8733843e-2973-4fc9-d0a1-521b31e42416"
      },
      "execution_count": 35,
      "outputs": [
        {
          "output_type": "stream",
          "name": "stdout",
          "text": [
            "[1] \"wheat\"\n"
          ]
        }
      ]
    },
    {
      "cell_type": "code",
      "source": [
        "total <-0\n",
        "for(a in order){\n",
        "\n",
        "  for(b in items){\n",
        "    if(a$name == b$name){\n",
        "      total <- total + a$qua*b$price\n",
        "    }\n",
        "  }\n",
        "}\n",
        "cat(total)"
      ],
      "metadata": {
        "colab": {
          "base_uri": "https://localhost:8080/"
        },
        "id": "DzX3rRcOdaz4",
        "outputId": "2c61605b-7430-4010-a1cd-fb6b727dce9a"
      },
      "execution_count": 38,
      "outputs": [
        {
          "output_type": "stream",
          "name": "stdout",
          "text": [
            "60"
          ]
        }
      ]
    },
    {
      "cell_type": "code",
      "source": [],
      "metadata": {
        "id": "v_T7ZXVIR7mQ"
      },
      "execution_count": null,
      "outputs": []
    }
  ]
}