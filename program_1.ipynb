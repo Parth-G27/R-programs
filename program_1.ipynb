{
  "nbformat": 4,
  "nbformat_minor": 0,
  "metadata": {
    "colab": {
      "provenance": [],
      "authorship_tag": "ABX9TyOvsW/EO1gs7m3jjSI8tnkj",
      "include_colab_link": true
    },
    "kernelspec": {
      "name": "ir",
      "display_name": "R"
    },
    "language_info": {
      "name": "R"
    }
  },
  "cells": [
    {
      "cell_type": "markdown",
      "metadata": {
        "id": "view-in-github",
        "colab_type": "text"
      },
      "source": [
        "<a href=\"https://colab.research.google.com/github/Parth-G27/R-programs/blob/main/program_1.ipynb\" target=\"_parent\"><img src=\"https://colab.research.google.com/assets/colab-badge.svg\" alt=\"Open In Colab\"/></a>"
      ]
    },
    {
      "cell_type": "code",
      "source": [
        "cat(\"Hi\")\n",
        "w <- 99\n",
        "cat(w)\n",
        "print(w)\n",
        "cat(w+99)"
      ],
      "metadata": {
        "colab": {
          "base_uri": "https://localhost:8080/"
        },
        "id": "RS9T24VFZ45o",
        "outputId": "315e3158-12d8-4c16-a974-7e216c8e8411"
      },
      "execution_count": 13,
      "outputs": [
        {
          "output_type": "stream",
          "name": "stdout",
          "text": [
            "Hi99[1] 99\n",
            "198"
          ]
        }
      ]
    },
    {
      "cell_type": "code",
      "source": [
        "l1 = c(1,23,9)\n",
        "print(l1[1]+l1[2])\n",
        "cat(l1[1])"
      ],
      "metadata": {
        "colab": {
          "base_uri": "https://localhost:8080/"
        },
        "id": "NK2iX68DaCfZ",
        "outputId": "abe5f1e5-081c-4e3b-a40b-ab288f54d67d"
      },
      "execution_count": 9,
      "outputs": [
        {
          "output_type": "stream",
          "name": "stdout",
          "text": [
            "[1] 24\n",
            "1"
          ]
        }
      ]
    },
    {
      "cell_type": "code",
      "source": [],
      "metadata": {
        "id": "3_ZUJH-maAzM"
      },
      "execution_count": null,
      "outputs": []
    }
  ]
}