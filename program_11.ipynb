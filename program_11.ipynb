{
  "nbformat": 4,
  "nbformat_minor": 0,
  "metadata": {
    "colab": {
      "provenance": [],
      "authorship_tag": "ABX9TyOXpcQakm3GeHQYq979bVxM",
      "include_colab_link": true
    },
    "kernelspec": {
      "name": "ir",
      "display_name": "R"
    },
    "language_info": {
      "name": "R"
    }
  },
  "cells": [
    {
      "cell_type": "markdown",
      "metadata": {
        "id": "view-in-github",
        "colab_type": "text"
      },
      "source": [
        "<a href=\"https://colab.research.google.com/github/Parth-G27/R-programs/blob/main/program_11.ipynb\" target=\"_parent\"><img src=\"https://colab.research.google.com/assets/colab-badge.svg\" alt=\"Open In Colab\"/></a>"
      ]
    },
    {
      "cell_type": "code",
      "source": [
        "install.packages(\"readr\")\n",
        "install.packages(\"dplyr\")\n"
      ],
      "metadata": {
        "colab": {
          "base_uri": "https://localhost:8080/"
        },
        "id": "XsM6PWd5CtZR",
        "outputId": "3ec88fad-9507-4408-eacc-fbdb5c3f949e"
      },
      "execution_count": 1,
      "outputs": [
        {
          "output_type": "stream",
          "name": "stderr",
          "text": [
            "Installing package into ‘/usr/local/lib/R/site-library’\n",
            "(as ‘lib’ is unspecified)\n",
            "\n",
            "Installing package into ‘/usr/local/lib/R/site-library’\n",
            "(as ‘lib’ is unspecified)\n",
            "\n"
          ]
        }
      ]
    },
    {
      "cell_type": "code",
      "source": [
        "library(readr)\n",
        "library(dplyr)\n",
        "\n",
        "cid <- 1:100\n",
        "amt <- runif(100, min=10, max = 200)\n",
        "\n",
        "dummy = data.frame(\n",
        "  CID = cid,\n",
        "  amout = amt\n",
        ")\n",
        "\n",
        "write.csv(dummy,\"data.csv\",row.names=FALSE)\n",
        "data <- read.csv(\"data.csv\")\n",
        "\n",
        "mean <- mean(data$amout)\n",
        "median <- median(data$amout)\n",
        "sd <- sd(data$amout)\n",
        "\n",
        "count <- nrow(data)\n",
        "\n",
        "total <- sum(data$amout)\n",
        "\n",
        "uni <- n_distinct(data$CID)"
      ],
      "metadata": {
        "id": "q4H3oHHNDpd9"
      },
      "execution_count": 17,
      "outputs": []
    },
    {
      "cell_type": "code",
      "source": [
        "data$seg <- ifelse(data$amout<median,\"Low spender\",\"High spender\")\n",
        "\n",
        "hist(data$amout,main=\"Distribution\",xlab = \"amout\",ylab = \"frequency\")"
      ],
      "metadata": {
        "colab": {
          "base_uri": "https://localhost:8080/",
          "height": 437
        },
        "id": "8USvAp2XH2vX",
        "outputId": "c049d5ed-a9a7-4299-bf95-d16722ccbe39"
      },
      "execution_count": 18,
      "outputs": [
        {
          "output_type": "display_data",
          "data": {
            "text/plain": [
              "Plot with title “Distribution”"
            ],
            "image/png": "[encoded data removed]"
          },
          "metadata": {
            "image/png": {
              "width": 420,
              "height": 420
            }
          }
        }
      ]
    },
    {
      "cell_type": "code",
      "source": [],
      "metadata": {
        "id": "cYHxQxWdJMIF"
      },
      "execution_count": null,
      "outputs": []
    }
  ]
}