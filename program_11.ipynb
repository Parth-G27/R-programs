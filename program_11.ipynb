{
  "nbformat": 4,
  "nbformat_minor": 0,
  "metadata": {
    "colab": {
      "provenance": [],
      "authorship_tag": "ABX9TyM6YwzxxGWQAcxmkrJFCvLI",
      "include_colab_link": true
    },
    "kernelspec": {
      "name": "ir",
      "display_name": "R"
    },
    "language_info": {
      "name": "R"
    }
  },
  "cells": [
    {
      "cell_type": "markdown",
      "metadata": {
        "id": "view-in-github",
        "colab_type": "text"
      },
      "source": [
        "<a href=\"https://colab.research.google.com/github/Parth-G27/R-programs/blob/main/program_11.ipynb\" target=\"_parent\"><img src=\"https://colab.research.google.com/assets/colab-badge.svg\" alt=\"Open In Colab\"/></a>"
      ]
    },
    {
      "cell_type": "code",
      "source": [
        "install.packages(\"readr\")\n",
        "install.packages(\"dplyr\")\n"
      ],
      "metadata": {
        "colab": {
          "base_uri": "https://localhost:8080/"
        },
        "id": "XsM6PWd5CtZR",
        "outputId": "3ec88fad-9507-4408-eacc-fbdb5c3f949e"
      },
      "execution_count": 1,
      "outputs": [
        {
          "output_type": "stream",
          "name": "stderr",
          "text": [
            "Installing package into ‘/usr/local/lib/R/site-library’\n",
            "(as ‘lib’ is unspecified)\n",
            "\n",
            "Installing package into ‘/usr/local/lib/R/site-library’\n",
            "(as ‘lib’ is unspecified)\n",
            "\n"
          ]
        }
      ]
    },
    {
      "cell_type": "code",
      "execution_count": 2,
      "metadata": {
        "colab": {
          "base_uri": "https://localhost:8080/",
          "height": 1000
        },
        "id": "Q5ZWeTI8Cl4b",
        "outputId": "3c7666e7-91f2-4e1f-fb4c-91982534b25a"
      },
      "outputs": [
        {
          "output_type": "stream",
          "name": "stderr",
          "text": [
            "\n",
            "Attaching package: ‘dplyr’\n",
            "\n",
            "\n",
            "The following objects are masked from ‘package:stats’:\n",
            "\n",
            "    filter, lag\n",
            "\n",
            "\n",
            "The following objects are masked from ‘package:base’:\n",
            "\n",
            "    intersect, setdiff, setequal, union\n",
            "\n",
            "\n",
            "\u001b[1mRows: \u001b[22m\u001b[34m100\u001b[39m \u001b[1mColumns: \u001b[22m\u001b[34m2\u001b[39m\n",
            "\u001b[36m──\u001b[39m \u001b[1mColumn specification\u001b[22m \u001b[36m────────────────────────────────────────────────────────\u001b[39m\n",
            "\u001b[1mDelimiter:\u001b[22m \",\"\n",
            "\u001b[32mdbl\u001b[39m (2): Customer_ID, Purchase_Amount\n",
            "\n",
            "\u001b[36mℹ\u001b[39m Use `spec()` to retrieve the full column specification for this data.\n",
            "\u001b[36mℹ\u001b[39m Specify the column types or set `show_col_types = FALSE` to quiet this message.\n"
          ]
        },
        {
          "output_type": "stream",
          "name": "stdout",
          "text": [
            "Total number of records: 100 \n",
            "Total number of unique customers: 100 \n",
            "Mean purchase amount: 109.651 \n",
            "Median purchase amount: 112.5457 \n",
            "Standard deviation of purchase amounts: 57.36991 \n",
            "\u001b[90m# A tibble: 100 × 3\u001b[39m\n",
            "   Customer_ID Purchase_Amount Segment     \n",
            "         \u001b[3m\u001b[90m<dbl>\u001b[39m\u001b[23m           \u001b[3m\u001b[90m<dbl>\u001b[39m\u001b[23m \u001b[3m\u001b[90m<chr>\u001b[39m\u001b[23m       \n",
            "\u001b[90m 1\u001b[39m           1           184.  High Spender\n",
            "\u001b[90m 2\u001b[39m           2           188.  High Spender\n",
            "\u001b[90m 3\u001b[39m           3            64.4 Low Spender \n",
            "\u001b[90m 4\u001b[39m           4           168.  High Spender\n",
            "\u001b[90m 5\u001b[39m           5           132.  High Spender\n",
            "\u001b[90m 6\u001b[39m           6           109.  Low Spender \n",
            "\u001b[90m 7\u001b[39m           7           150.  High Spender\n",
            "\u001b[90m 8\u001b[39m           8            35.6 Low Spender \n",
            "\u001b[90m 9\u001b[39m           9           135.  High Spender\n",
            "\u001b[90m10\u001b[39m          10           144.  High Spender\n",
            "\u001b[90m# ℹ 90 more rows\u001b[39m\n"
          ]
        },
        {
          "output_type": "display_data",
          "data": {
            "text/plain": [
              "Plot with title “Distribution of Purchase Amounts”"
            ],
            "image/png": "[encoded data removed]"
          },
          "metadata": {
            "image/png": {
              "width": 420,
              "height": 420
            }
          }
        }
      ],
      "source": [
        "library(readr)\n",
        "library(dplyr)\n",
        "set.seed(42)\n",
        "customer_ids <- 1:100\n",
        "# Generating 100 Random numbers from 10 to 200.\n",
        "purchase_amounts <- runif(100, min = 10, max = 200)\n",
        "dummy_data <- data.frame(\n",
        "Customer_ID = customer_ids,\n",
        "Purchase_Amount = purchase_amounts\n",
        ")\n",
        "# Writing into a CSV file customer_purchases.csv\n",
        "write.csv(dummy_data, \"customer_purchases.csv\", row.names = FALSE)\n",
        "purchase_data <- read_csv(\"customer_purchases.csv\")\n",
        "total_records <- nrow(purchase_data)\n",
        "total_unique_customers <- n_distinct(purchase_data$Customer_ID)\n",
        "cat(\"Total number of records:\", total_records, \"\\n\")\n",
        "cat(\"Total number of unique customers:\", total_unique_customers, \"\\n\")\n",
        "mean_purchase_amount <- mean(purchase_data$Purchase_Amount)\n",
        "median_purchase_amount <- median(purchase_data$Purchase_Amount)\n",
        "\n",
        "std_dev_purchase_amount <- sd(purchase_data$Purchase_Amount)\n",
        "cat(\"Mean purchase amount:\", mean_purchase_amount, \"\\n\")\n",
        "cat(\"Median purchase amount:\", median_purchase_amount, \"\\n\")\n",
        "cat(\"Standard deviation of purchase amounts:\", std_dev_purchase_amount,\n",
        "\"\\n\")\n",
        "#Creating a new column called segment.\n",
        "purchase_data$Segment <- ifelse(purchase_data$Purchase_Amount <\n",
        "median_purchase_amount, \"Low Spender\", \"High Spender\")\n",
        "print(purchase_data)\n",
        "hist(purchase_data$Purchase_Amount, main = \"Distribution of Purchase Amounts\", xlab = \"Purchase Amount\", col = \"blue\", border = \"black\")"
      ]
    },
    {
      "cell_type": "code",
      "source": [],
      "metadata": {
        "id": "q4H3oHHNDpd9"
      },
      "execution_count": null,
      "outputs": []
    }
  ]
}