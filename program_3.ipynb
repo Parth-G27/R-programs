{
  "nbformat": 4,
  "nbformat_minor": 0,
  "metadata": {
    "colab": {
      "provenance": [],
      "authorship_tag": "ABX9TyNGcM7vhLfWJ0gXjfSv5fDh",
      "include_colab_link": true
    },
    "kernelspec": {
      "name": "ir",
      "display_name": "R"
    },
    "language_info": {
      "name": "R"
    }
  },
  "cells": [
    {
      "cell_type": "markdown",
      "metadata": {
        "id": "view-in-github",
        "colab_type": "text"
      },
      "source": [
        "<a href=\"https://colab.research.google.com/github/Parth-G27/R-programs/blob/main/program_3.ipynb\" target=\"_parent\"><img src=\"https://colab.research.google.com/assets/colab-badge.svg\" alt=\"Open In Colab\"/></a>"
      ]
    },
    {
      "cell_type": "code",
      "source": [
        "calculate_fine <- function (x){\n",
        "    if(x<=7){\n",
        "        fine <- 0\n",
        "    }\n",
        "    else if(x>7 & x<=15){\n",
        "        fine <- (x-7)*2\n",
        "    }\n",
        "    else if(x>15 & x<=30){\n",
        "        fine <- (x-15)*3 + 8*2\n",
        "    } else{\n",
        "        fine<- (x-30)*5 + 8*2 + 15*3\n",
        "    }\n",
        "\n",
        "    return (fine)\n",
        "}\n",
        "\n",
        "days <- as.integer(readline(\"Enter the days\"))\n",
        "\n",
        "if(days>50){\n",
        "    cat(\"Meet them now\")\n",
        "}else{\n",
        "    am <- calculate_fine(days)\n",
        "    cat(\"Fine :\",am)\n",
        "\n",
        "}\n"
      ],
      "metadata": {
        "colab": {
          "base_uri": "https://localhost:8080/"
        },
        "id": "IncYVbqpjYaW",
        "outputId": "4f330998-70de-4e36-912a-47d863290d0d"
      },
      "execution_count": 22,
      "outputs": [
        {
          "output_type": "stream",
          "name": "stdout",
          "text": [
            "Enter the days45\n",
            "Fine : 136"
          ]
        }
      ]
    },
    {
      "cell_type": "code",
      "source": [],
      "metadata": {
        "id": "Wx9NQQWfljrH"
      },
      "execution_count": null,
      "outputs": []
    }
  ]
}